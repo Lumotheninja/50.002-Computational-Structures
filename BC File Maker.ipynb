{
 "cells": [
  {
   "cell_type": "markdown",
   "metadata": {},
   "source": [
    "Codes for printing out the BC codes for Brent-Kung Adder"
   ]
  },
  {
   "cell_type": "code",
   "execution_count": 27,
   "metadata": {
    "collapsed": false
   },
   "outputs": [
    {
     "name": "stdout",
     "output_type": "stream",
     "text": [
      "P1C1:= ODD (A1, B1);\n",
      "G1C1:= AND (A1, B1);\n",
      "P2C2:= ODD (A2, B2);\n",
      "G2C2:= AND (A2, B2);\n",
      "P3C3:= ODD (A3, B3);\n",
      "G3C3:= AND (A3, B3);\n",
      "P4C4:= ODD (A4, B4);\n",
      "G4C4:= AND (A4, B4);\n",
      "P5C5:= ODD (A5, B5);\n",
      "G5C5:= AND (A5, B5);\n",
      "P6C6:= ODD (A6, B6);\n",
      "G6C6:= AND (A6, B6);\n",
      "P7C7:= ODD (A7, B7);\n",
      "G7C7:= AND (A7, B7);\n"
     ]
    }
   ],
   "source": [
    "for x in xrange(1,9):\n",
    "    print \"P%dC%d:= ODD (A%d, B%d);\" %(x,x,x,x)\n",
    "    print \"G%dC%d:= AND (A%d, B%d);\" %(x,x,x,x)\n",
    "    "
   ]
  },
  {
   "cell_type": "code",
   "execution_count": 28,
   "metadata": {
    "collapsed": true
   },
   "outputs": [],
   "source": [
    "def blackcell(a,b,c,d):\n",
    "    print \"P%dC%d := AND(P%dC%d, P%dC%d);\" %(a,d,a,b,c,d)\n",
    "    print \"P%dC%dANDG%dC%d := AND(P%dC%d, G%dC%d);\" %(a,b,c,d,a,b,c,d)\n",
    "    print \"G%dC%d := OR(P%dC%dANDG%dC%d, G%dC%d);\" %(a,d,a,b,c,d,a,b)\n",
    "    \n",
    "def greycell(a,b,c,d):\n",
    "    print \"P%dC%dANDG%dC%d := AND(P%dC%d, G%dC%d);\" %(a,b,c,d,a,b,c,d)\n",
    "    print \"G%dC%d := OR(P%dC%dANDG%dC%d, G%dC%d);\" %(a,d,a,b,c,d,a,b)"
   ]
  },
  {
   "cell_type": "code",
   "execution_count": 29,
   "metadata": {
    "collapsed": false
   },
   "outputs": [
    {
     "name": "stdout",
     "output_type": "stream",
     "text": [
      "P1C1ANDG0C0 := AND(P1C1, G0C0);\n",
      "G1C0 := OR(P1C1ANDG0C0, G1C1);\n",
      "P3C2 := AND(P3C3, P2C2);\n",
      "P3C3ANDG2C2 := AND(P3C3, G2C2);\n",
      "G3C2 := OR(P3C3ANDG2C2, G3C3);\n",
      "P5C4 := AND(P5C5, P4C4);\n",
      "P5C5ANDG4C4 := AND(P5C5, G4C4);\n",
      "G5C4 := OR(P5C5ANDG4C4, G5C5);\n",
      "P7C6 := AND(P7C7, P6C6);\n",
      "P7C7ANDG6C6 := AND(P7C7, G6C6);\n",
      "G7C6 := OR(P7C7ANDG6C6, G7C7);\n"
     ]
    }
   ],
   "source": [
    "greycell(1,1,0,0)\n",
    "blackcell(3,3,2,2)\n",
    "blackcell(5,5,4,4)\n",
    "blackcell(7,7,6,6)"
   ]
  },
  {
   "cell_type": "code",
   "execution_count": 30,
   "metadata": {
    "collapsed": false
   },
   "outputs": [
    {
     "name": "stdout",
     "output_type": "stream",
     "text": [
      "P3C2ANDG1C0 := AND(P3C2, G1C0);\n",
      "G3C0 := OR(P3C2ANDG1C0, G3C2);\n",
      "P7C4 := AND(P7C6, P5C4);\n",
      "P7C6ANDG5C4 := AND(P7C6, G5C4);\n",
      "G7C4 := OR(P7C6ANDG5C4, G7C6);\n"
     ]
    }
   ],
   "source": [
    "greycell(3,2,1,0)\n",
    "blackcell(7,6,5,4)"
   ]
  },
  {
   "cell_type": "code",
   "execution_count": 31,
   "metadata": {
    "collapsed": false
   },
   "outputs": [
    {
     "name": "stdout",
     "output_type": "stream",
     "text": [
      "P7C4ANDG3C0 := AND(P7C4, G3C0);\n",
      "G7C0 := OR(P7C4ANDG3C0, G7C4);\n"
     ]
    }
   ],
   "source": [
    "greycell(7,4,3,0)"
   ]
  },
  {
   "cell_type": "code",
   "execution_count": 32,
   "metadata": {
    "collapsed": false
   },
   "outputs": [
    {
     "name": "stdout",
     "output_type": "stream",
     "text": [
      "P8C8ANDG7C0 := AND(P8C8, G7C0);\n",
      "G8C0 := OR(P8C8ANDG7C0, G8C8);\n"
     ]
    }
   ],
   "source": [
    "greycell(8,8,7,0)"
   ]
  },
  {
   "cell_type": "markdown",
   "metadata": {},
   "source": [
    "BKA8 := ODD(P8C8, G7C0);"
   ]
  },
  {
   "cell_type": "markdown",
   "metadata": {},
   "source": [
    "nSCRA8ANDBKA8 := AND(nSRCA8 BKA8);\n",
    "NBKA8 := NOT(BKA8)\n",
    "SCRA8ANDNBKA8 := AND(SRCA8 NBKA8);\n",
    "BKA8 := OR(nSCRA8ANDBKA8 SCRA8ANDNBKA8);"
   ]
  },
  {
   "cell_type": "code",
   "execution_count": 34,
   "metadata": {
    "collapsed": false
   },
   "outputs": [
    {
     "name": "stdout",
     "output_type": "stream",
     "text": [
      "A1XORB1 := ODD(A1, B1);\n",
      "A1ANDB1 := AND(A1, B1);\n",
      "C0ANDXOR := AND(C0, A1XORB1);\n",
      "C1 := OR(C0ANDXOR, A1ANDB1);\n",
      "A2XORB2 := ODD(A2, B2);\n",
      "A2ANDB2 := AND(A2, B2);\n",
      "C1ANDXOR := AND(C1, A2XORB2);\n",
      "C2 := OR(C1ANDXOR, A2ANDB2);\n",
      "A3XORB3 := ODD(A3, B3);\n",
      "A3ANDB3 := AND(A3, B3);\n",
      "C2ANDXOR := AND(C2, A3XORB3);\n",
      "C3 := OR(C2ANDXOR, A3ANDB3);\n",
      "A4XORB4 := ODD(A4, B4);\n",
      "A4ANDB4 := AND(A4, B4);\n",
      "C3ANDXOR := AND(C3, A4XORB4);\n",
      "C4 := OR(C3ANDXOR, A4ANDB4);\n",
      "A5XORB5 := ODD(A5, B5);\n",
      "A5ANDB5 := AND(A5, B5);\n",
      "C4ANDXOR := AND(C4, A5XORB5);\n",
      "C5 := OR(C4ANDXOR, A5ANDB5);\n",
      "A6XORB6 := ODD(A6, B6);\n",
      "A6ANDB6 := AND(A6, B6);\n",
      "C5ANDXOR := AND(C5, A6XORB6);\n",
      "C6 := OR(C5ANDXOR, A6ANDB6);\n",
      "A7XORB7 := ODD(A7, B7);\n",
      "A7ANDB7 := AND(A7, B7);\n",
      "C6ANDXOR := AND(C6, A7XORB7);\n",
      "C7 := OR(C6ANDXOR, A7ANDB7);\n",
      "A8XORB8 := ODD(A8, B8);\n",
      "A8ANDB8 := AND(A8, B8);\n",
      "C7ANDXOR := AND(C7, A8XORB8);\n",
      "C8 := OR(C7ANDXOR, A8ANDB8);\n"
     ]
    }
   ],
   "source": [
    "for x in xrange(1,9):\n",
    "    print \"A%dXORB%d := ODD(A%d, B%d);\" %(x,x,x,x)\n",
    "    print \"A%dANDB%d := AND(A%d, B%d);\" %(x,x,x,x)\n",
    "    print \"C%dANDXOR := AND(C%d, A%dXORB%d);\" %(x-1,x-1,x,x)\n",
    "    print \"C%d := OR(C%dANDXOR, A%dANDB%d);\" %(x,x-1,x,x)\n",
    "    \n",
    "    \n",
    "    "
   ]
  },
  {
   "cell_type": "code",
   "execution_count": null,
   "metadata": {
    "collapsed": true
   },
   "outputs": [],
   "source": []
  }
 ],
 "metadata": {
  "kernelspec": {
   "display_name": "Python 2",
   "language": "python",
   "name": "python2"
  },
  "language_info": {
   "codemirror_mode": {
    "name": "ipython",
    "version": 2
   },
   "file_extension": ".py",
   "mimetype": "text/x-python",
   "name": "python",
   "nbconvert_exporter": "python",
   "pygments_lexer": "ipython2",
   "version": "2.7.13"
  }
 },
 "nbformat": 4,
 "nbformat_minor": 0
}
