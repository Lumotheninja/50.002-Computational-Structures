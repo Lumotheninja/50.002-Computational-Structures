{
 "cells": [
  {
   "cell_type": "markdown",
   "metadata": {},
   "source": [
    "New codes"
   ]
  },
  {
   "cell_type": "code",
   "execution_count": 72,
   "metadata": {
    "collapsed": false
   },
   "outputs": [
    {
     "name": "stdout",
     "output_type": "stream",
     "text": [
      "Xp0c0 a0 b0 p0c0 xor2\n",
      "Xg0c0 a0 b0 g0c0 and2\n",
      "Xp1c1 a1 b1 p1c1 xor2\n",
      "Xg1c1 a1 b1 g1c1 and2\n",
      "Xp2c2 a2 b2 p2c2 xor2\n",
      "Xg2c2 a2 b2 g2c2 and2\n",
      "Xp3c3 a3 b3 p3c3 xor2\n",
      "Xg3c3 a3 b3 g3c3 and2\n",
      "Xp4c4 a4 b4 p4c4 xor2\n",
      "Xg4c4 a4 b4 g4c4 and2\n",
      "Xp5c5 a5 b5 p5c5 xor2\n",
      "Xg5c5 a5 b5 g5c5 and2\n",
      "Xp6c6 a6 b6 p6c6 xor2\n",
      "Xg6c6 a6 b6 g6c6 and2\n",
      "Xp7c7 a7 b7 p7c7 xor2\n",
      "Xg7c7 a7 b7 g7c7 and2\n",
      "Xp8c8 a8 b8 p8c8 xor2\n",
      "Xg8c8 a8 b8 g8c8 and2\n",
      "Xp9c9 a9 b9 p9c9 xor2\n",
      "Xg9c9 a9 b9 g9c9 and2\n",
      "Xp10c10 a10 b10 p10c10 xor2\n",
      "Xg10c10 a10 b10 g10c10 and2\n",
      "Xp11c11 a11 b11 p11c11 xor2\n",
      "Xg11c11 a11 b11 g11c11 and2\n",
      "Xp12c12 a12 b12 p12c12 xor2\n",
      "Xg12c12 a12 b12 g12c12 and2\n",
      "Xp13c13 a13 b13 p13c13 xor2\n",
      "Xg13c13 a13 b13 g13c13 and2\n",
      "Xp14c14 a14 b14 p14c14 xor2\n",
      "Xg14c14 a14 b14 g14c14 and2\n",
      "Xp15c15 a15 b15 p15c15 xor2\n",
      "Xg15c15 a15 b15 g15c15 and2\n",
      "Xp16c16 a16 b16 p16c16 xor2\n",
      "Xg16c16 a16 b16 g16c16 and2\n",
      "Xp17c17 a17 b17 p17c17 xor2\n",
      "Xg17c17 a17 b17 g17c17 and2\n",
      "Xp18c18 a18 b18 p18c18 xor2\n",
      "Xg18c18 a18 b18 g18c18 and2\n",
      "Xp19c19 a19 b19 p19c19 xor2\n",
      "Xg19c19 a19 b19 g19c19 and2\n",
      "Xp20c20 a20 b20 p20c20 xor2\n",
      "Xg20c20 a20 b20 g20c20 and2\n",
      "Xp21c21 a21 b21 p21c21 xor2\n",
      "Xg21c21 a21 b21 g21c21 and2\n",
      "Xp22c22 a22 b22 p22c22 xor2\n",
      "Xg22c22 a22 b22 g22c22 and2\n",
      "Xp23c23 a23 b23 p23c23 xor2\n",
      "Xg23c23 a23 b23 g23c23 and2\n",
      "Xp24c24 a24 b24 p24c24 xor2\n",
      "Xg24c24 a24 b24 g24c24 and2\n",
      "Xp25c25 a25 b25 p25c25 xor2\n",
      "Xg25c25 a25 b25 g25c25 and2\n",
      "Xp26c26 a26 b26 p26c26 xor2\n",
      "Xg26c26 a26 b26 g26c26 and2\n",
      "Xp27c27 a27 b27 p27c27 xor2\n",
      "Xg27c27 a27 b27 g27c27 and2\n",
      "Xp28c28 a28 b28 p28c28 xor2\n",
      "Xg28c28 a28 b28 g28c28 and2\n",
      "Xp29c29 a29 b29 p29c29 xor2\n",
      "Xg29c29 a29 b29 g29c29 and2\n",
      "Xp30c30 a30 b30 p30c30 xor2\n",
      "Xg30c30 a30 b30 g30c30 and2\n",
      "Xp31c31 a31 b31 p31c31 xor2\n",
      "Xg31c31 a31 b31 g31c31 and2\n"
     ]
    }
   ],
   "source": [
    "for x in xrange(0,32):\n",
    "    #printing out all the p's and g's\n",
    "    print \"Xp%dc%d a%d b%d p%dc%d xor2\" %(x,x,x,x,x,x)\n",
    "    print \"Xg%dc%d a%d b%d g%dc%d and2\" %(x,x,x,x,x,x)"
   ]
  },
  {
   "cell_type": "code",
   "execution_count": 97,
   "metadata": {
    "collapsed": true
   },
   "outputs": [],
   "source": [
    "def blackcell(a,b,c,d):\n",
    "    print \"Xp%dc%d p%dc%d p%dc%d p%dc%d and2\" %(a,d,a,b,c,d,a,d)\n",
    "    print \"Xp%dc%dandg%dc%d p%dc%d g%dc%d p%dc%dandg%dc%d and2\" %(a,b,c,d,a,b,c,d,a,b,c,d)\n",
    "    print \"Xg%dc%d p%dc%dandg%dc%d g%dc%d g%dc%d or2\" %(a,d,a,b,c,d,a,b,a,d)\n",
    "    \n",
    "def greycell (a,b,c,d):\n",
    "    print \"Xp%dc%dandg%dc%d p%dc%d g%dc%d p%dc%dandg%dc%d and2\" %(a,b,c,d,a,b,c,d,a,b,c,d)\n",
    "    print \"Xg%dc%d p%dc%dandg%dc%d g%dc%d g%dc%d or2\" %(a,d,a,b,c,d,a,b,a,d)"
   ]
  },
  {
   "cell_type": "markdown",
   "metadata": {},
   "source": [
    "BK"
   ]
  },
  {
   "cell_type": "code",
   "execution_count": 98,
   "metadata": {
    "collapsed": false
   },
   "outputs": [
    {
     "name": "stdout",
     "output_type": "stream",
     "text": [
      "Xp1c1andg0c0 p1c1 g0c0 p1c1andg0c0 and2\n",
      "Xg1c0 p1c1andg0c0 g1c1 g1c0 or2\n",
      "Xp3c2 p3c3 p2c2 p3c2 and2\n",
      "Xp3c3andg2c2 p3c3 g2c2 p3c3andg2c2 and2\n",
      "Xg3c2 p3c3andg2c2 g3c3 g3c2 or2\n",
      "Xp5c4 p5c5 p4c4 p5c4 and2\n",
      "Xp5c5andg4c4 p5c5 g4c4 p5c5andg4c4 and2\n",
      "Xg5c4 p5c5andg4c4 g5c5 g5c4 or2\n",
      "Xp7c6 p7c7 p6c6 p7c6 and2\n",
      "Xp7c7andg6c6 p7c7 g6c6 p7c7andg6c6 and2\n",
      "Xg7c6 p7c7andg6c6 g7c7 g7c6 or2\n",
      "Xp9c8 p9c9 p8c8 p9c8 and2\n",
      "Xp9c9andg8c8 p9c9 g8c8 p9c9andg8c8 and2\n",
      "Xg9c8 p9c9andg8c8 g9c9 g9c8 or2\n",
      "Xp11c10 p11c11 p10c10 p11c10 and2\n",
      "Xp11c11andg10c10 p11c11 g10c10 p11c11andg10c10 and2\n",
      "Xg11c10 p11c11andg10c10 g11c11 g11c10 or2\n",
      "Xp13c12 p13c13 p12c12 p13c12 and2\n",
      "Xp13c13andg12c12 p13c13 g12c12 p13c13andg12c12 and2\n",
      "Xg13c12 p13c13andg12c12 g13c13 g13c12 or2\n",
      "Xp15c14 p15c15 p14c14 p15c14 and2\n",
      "Xp15c15andg14c14 p15c15 g14c14 p15c15andg14c14 and2\n",
      "Xg15c14 p15c15andg14c14 g15c15 g15c14 or2\n",
      "Xp17c16 p17c17 p16c16 p17c16 and2\n",
      "Xp17c17andg16c16 p17c17 g16c16 p17c17andg16c16 and2\n",
      "Xg17c16 p17c17andg16c16 g17c17 g17c16 or2\n",
      "Xp19c18 p19c19 p18c18 p19c18 and2\n",
      "Xp19c19andg18c18 p19c19 g18c18 p19c19andg18c18 and2\n",
      "Xg19c18 p19c19andg18c18 g19c19 g19c18 or2\n",
      "Xp21c20 p21c21 p20c20 p21c20 and2\n",
      "Xp21c21andg20c20 p21c21 g20c20 p21c21andg20c20 and2\n",
      "Xg21c20 p21c21andg20c20 g21c21 g21c20 or2\n",
      "Xp23c22 p23c23 p22c22 p23c22 and2\n",
      "Xp23c23andg22c22 p23c23 g22c22 p23c23andg22c22 and2\n",
      "Xg23c22 p23c23andg22c22 g23c23 g23c22 or2\n",
      "Xp25c24 p25c25 p24c24 p25c24 and2\n",
      "Xp25c25andg24c24 p25c25 g24c24 p25c25andg24c24 and2\n",
      "Xg25c24 p25c25andg24c24 g25c25 g25c24 or2\n",
      "Xp27c26 p27c27 p26c26 p27c26 and2\n",
      "Xp27c27andg26c26 p27c27 g26c26 p27c27andg26c26 and2\n",
      "Xg27c26 p27c27andg26c26 g27c27 g27c26 or2\n",
      "Xp29c28 p29c29 p28c28 p29c28 and2\n",
      "Xp29c29andg28c28 p29c29 g28c28 p29c29andg28c28 and2\n",
      "Xg29c28 p29c29andg28c28 g29c29 g29c28 or2\n",
      "Xp31c30 p31c31 p30c30 p31c30 and2\n",
      "Xp31c31andg30c30 p31c31 g30c30 p31c31andg30c30 and2\n",
      "Xg31c30 p31c31andg30c30 g31c31 g31c30 or2\n"
     ]
    }
   ],
   "source": [
    "# row1 \n",
    "greycell(1,1,0,0)\n",
    "for x in xrange(2,32,2):\n",
    "    blackcell(x+1,x+1,x,x)\n",
    "    \n",
    "#for x in xrange(0,34,2):\n",
    "#    print \"Xr1p%dc%d p%dc%d r1p%dc%d buffer\" %(x,x,x,x,x,x)\n",
    "#    print \"Xr1g%dc%d g%dc%d r1g%dc%d buffer\" %(x,x,x,x,x,x)"
   ]
  },
  {
   "cell_type": "code",
   "execution_count": 99,
   "metadata": {
    "collapsed": false
   },
   "outputs": [
    {
     "name": "stdout",
     "output_type": "stream",
     "text": [
      "Xp3c2andg1c0 p3c2 g1c0 p3c2andg1c0 and2\n",
      "Xg3c0 p3c2andg1c0 g3c2 g3c0 or2\n",
      "Xp7c4 p7c6 p5c4 p7c4 and2\n",
      "Xp7c6andg5c4 p7c6 g5c4 p7c6andg5c4 and2\n",
      "Xg7c4 p7c6andg5c4 g7c6 g7c4 or2\n",
      "Xp11c8 p11c10 p9c8 p11c8 and2\n",
      "Xp11c10andg9c8 p11c10 g9c8 p11c10andg9c8 and2\n",
      "Xg11c8 p11c10andg9c8 g11c10 g11c8 or2\n",
      "Xp15c12 p15c14 p13c12 p15c12 and2\n",
      "Xp15c14andg13c12 p15c14 g13c12 p15c14andg13c12 and2\n",
      "Xg15c12 p15c14andg13c12 g15c14 g15c12 or2\n",
      "Xp19c16 p19c18 p17c16 p19c16 and2\n",
      "Xp19c18andg17c16 p19c18 g17c16 p19c18andg17c16 and2\n",
      "Xg19c16 p19c18andg17c16 g19c18 g19c16 or2\n",
      "Xp23c20 p23c22 p21c20 p23c20 and2\n",
      "Xp23c22andg21c20 p23c22 g21c20 p23c22andg21c20 and2\n",
      "Xg23c20 p23c22andg21c20 g23c22 g23c20 or2\n",
      "Xp27c24 p27c26 p25c24 p27c24 and2\n",
      "Xp27c26andg25c24 p27c26 g25c24 p27c26andg25c24 and2\n",
      "Xg27c24 p27c26andg25c24 g27c26 g27c24 or2\n",
      "Xp31c28 p31c30 p29c28 p31c28 and2\n",
      "Xp31c30andg29c28 p31c30 g29c28 p31c30andg29c28 and2\n",
      "Xg31c28 p31c30andg29c28 g31c30 g31c28 or2\n"
     ]
    }
   ],
   "source": [
    "# row2\n",
    "greycell(3,2,1,0)\n",
    "for x in xrange(4,32,4):\n",
    "    blackcell(x+3,x+2,x+1,x)\n",
    "    \n",
    "#for x in xrange(8):\n",
    "#    print \"Xr2p%dc%d p%dc%d r2p%dc%d buffer\" %(x*4+1,x*4,x*4+1,x*4,x*4+1,x*4)"
   ]
  },
  {
   "cell_type": "code",
   "execution_count": 100,
   "metadata": {
    "collapsed": false
   },
   "outputs": [
    {
     "name": "stdout",
     "output_type": "stream",
     "text": [
      "Xp7c4andg3c0 p7c4 g3c0 p7c4andg3c0 and2\n",
      "Xg7c0 p7c4andg3c0 g7c4 g7c0 or2\n",
      "Xp15c8 p15c12 p11c8 p15c8 and2\n",
      "Xp15c12andg11c8 p15c12 g11c8 p15c12andg11c8 and2\n",
      "Xg15c8 p15c12andg11c8 g15c12 g15c8 or2\n",
      "Xp23c16 p23c20 p19c16 p23c16 and2\n",
      "Xp23c20andg19c16 p23c20 g19c16 p23c20andg19c16 and2\n",
      "Xg23c16 p23c20andg19c16 g23c20 g23c16 or2\n",
      "Xp31c24 p31c28 p27c24 p31c24 and2\n",
      "Xp31c28andg27c24 p31c28 g27c24 p31c28andg27c24 and2\n",
      "Xg31c24 p31c28andg27c24 g31c28 g31c24 or2\n"
     ]
    }
   ],
   "source": [
    "# row3\n",
    "greycell(7,4,3,0)\n",
    "for x in xrange(8,32,8):\n",
    "    blackcell(x+7,x+4,x+3,x)\n"
   ]
  },
  {
   "cell_type": "code",
   "execution_count": 111,
   "metadata": {
    "collapsed": false
   },
   "outputs": [
    {
     "name": "stdout",
     "output_type": "stream",
     "text": [
      "Xp15c8andg7c0 p15c8 g7c0 p15c8andg7c0 and2\n",
      "Xg15c0 p15c8andg7c0 g15c8 g15c0 or2\n",
      "Xp31c16 p31c24 p23c16 p31c16 and2\n",
      "Xp31c24andg23c16 p31c24 g23c16 p31c24andg23c16 and2\n",
      "Xg31c16 p31c24andg23c16 g31c24 g31c16 or2\n"
     ]
    }
   ],
   "source": [
    "#row4\n",
    "greycell(15,8,7,0)\n",
    "blackcell(31,24,23,16)"
   ]
  },
  {
   "cell_type": "code",
   "execution_count": 102,
   "metadata": {
    "collapsed": false
   },
   "outputs": [
    {
     "name": "stdout",
     "output_type": "stream",
     "text": [
      "Xp31c16andg15c0 p31c16 g15c0 p31c16andg15c0 and2\n",
      "Xg31c0 p31c16andg15c0 g31c16 g31c0 or2\n"
     ]
    }
   ],
   "source": [
    "#row5\n",
    "greycell(31,16,15,0)"
   ]
  },
  {
   "cell_type": "code",
   "execution_count": 103,
   "metadata": {
    "collapsed": false
   },
   "outputs": [
    {
     "name": "stdout",
     "output_type": "stream",
     "text": [
      "Xp23c16andg15c0 p23c16 g15c0 p23c16andg15c0 and2\n",
      "Xg23c0 p23c16andg15c0 g23c16 g23c0 or2\n"
     ]
    }
   ],
   "source": [
    "#row6\n",
    "greycell(23,16,15,0)"
   ]
  },
  {
   "cell_type": "code",
   "execution_count": 113,
   "metadata": {
    "collapsed": false
   },
   "outputs": [
    {
     "name": "stdout",
     "output_type": "stream",
     "text": [
      "Xp11c8andg7c0 p11c8 g7c0 p11c8andg7c0 and2\n",
      "Xg11c0 p11c8andg7c0 g11c8 g11c0 or2\n",
      "Xp19c16andg15c0 p19c16 g15c0 p19c16andg15c0 and2\n",
      "Xg19c0 p19c16andg15c0 g19c16 g19c0 or2\n",
      "Xp27c24andg23c0 p27c24 g23c0 p27c24andg23c0 and2\n",
      "Xg27c0 p27c24andg23c0 g27c24 g27c0 or2\n"
     ]
    }
   ],
   "source": [
    "#row7\n",
    "for x in xrange(3):\n",
    "    greycell(11+8*x,8+8*x,7+8*x,0)"
   ]
  },
  {
   "cell_type": "code",
   "execution_count": 109,
   "metadata": {
    "collapsed": false
   },
   "outputs": [
    {
     "name": "stdout",
     "output_type": "stream",
     "text": [
      "Xp5c4andg3c0 p5c4 g3c0 p5c4andg3c0 and2\n",
      "Xg5c0 p5c4andg3c0 g5c4 g5c0 or2\n",
      "Xp9c8andg7c0 p9c8 g7c0 p9c8andg7c0 and2\n",
      "Xg9c0 p9c8andg7c0 g9c8 g9c0 or2\n",
      "Xp13c12andg11c0 p13c12 g11c0 p13c12andg11c0 and2\n",
      "Xg13c0 p13c12andg11c0 g13c12 g13c0 or2\n",
      "Xp17c16andg15c0 p17c16 g15c0 p17c16andg15c0 and2\n",
      "Xg17c0 p17c16andg15c0 g17c16 g17c0 or2\n",
      "Xp21c20andg19c0 p21c20 g19c0 p21c20andg19c0 and2\n",
      "Xg21c0 p21c20andg19c0 g21c20 g21c0 or2\n",
      "Xp25c24andg23c0 p25c24 g23c0 p25c24andg23c0 and2\n",
      "Xg25c0 p25c24andg23c0 g25c24 g25c0 or2\n",
      "Xp29c28andg27c0 p29c28 g27c0 p29c28andg27c0 and2\n",
      "Xg29c0 p29c28andg27c0 g29c28 g29c0 or2\n"
     ]
    }
   ],
   "source": [
    "#row8\n",
    "for x in xrange(7):\n",
    "    greycell(5+4*x,4+4*x,3+4*x,0)"
   ]
  },
  {
   "cell_type": "code",
   "execution_count": 110,
   "metadata": {
    "collapsed": false
   },
   "outputs": [
    {
     "name": "stdout",
     "output_type": "stream",
     "text": [
      "Xp2c2andg1c0 p2c2 g1c0 p2c2andg1c0 and2\n",
      "Xg2c0 p2c2andg1c0 g2c2 g2c0 or2\n",
      "Xp4c4andg3c0 p4c4 g3c0 p4c4andg3c0 and2\n",
      "Xg4c0 p4c4andg3c0 g4c4 g4c0 or2\n",
      "Xp6c6andg5c0 p6c6 g5c0 p6c6andg5c0 and2\n",
      "Xg6c0 p6c6andg5c0 g6c6 g6c0 or2\n",
      "Xp8c8andg7c0 p8c8 g7c0 p8c8andg7c0 and2\n",
      "Xg8c0 p8c8andg7c0 g8c8 g8c0 or2\n",
      "Xp10c10andg9c0 p10c10 g9c0 p10c10andg9c0 and2\n",
      "Xg10c0 p10c10andg9c0 g10c10 g10c0 or2\n",
      "Xp12c12andg11c0 p12c12 g11c0 p12c12andg11c0 and2\n",
      "Xg12c0 p12c12andg11c0 g12c12 g12c0 or2\n",
      "Xp14c14andg13c0 p14c14 g13c0 p14c14andg13c0 and2\n",
      "Xg14c0 p14c14andg13c0 g14c14 g14c0 or2\n",
      "Xp16c16andg15c0 p16c16 g15c0 p16c16andg15c0 and2\n",
      "Xg16c0 p16c16andg15c0 g16c16 g16c0 or2\n",
      "Xp18c18andg17c0 p18c18 g17c0 p18c18andg17c0 and2\n",
      "Xg18c0 p18c18andg17c0 g18c18 g18c0 or2\n",
      "Xp20c20andg19c0 p20c20 g19c0 p20c20andg19c0 and2\n",
      "Xg20c0 p20c20andg19c0 g20c20 g20c0 or2\n",
      "Xp22c22andg21c0 p22c22 g21c0 p22c22andg21c0 and2\n",
      "Xg22c0 p22c22andg21c0 g22c22 g22c0 or2\n",
      "Xp24c24andg23c0 p24c24 g23c0 p24c24andg23c0 and2\n",
      "Xg24c0 p24c24andg23c0 g24c24 g24c0 or2\n",
      "Xp26c26andg25c0 p26c26 g25c0 p26c26andg25c0 and2\n",
      "Xg26c0 p26c26andg25c0 g26c26 g26c0 or2\n",
      "Xp28c28andg27c0 p28c28 g27c0 p28c28andg27c0 and2\n",
      "Xg28c0 p28c28andg27c0 g28c28 g28c0 or2\n",
      "Xp30c30andg29c0 p30c30 g29c0 p30c30andg29c0 and2\n",
      "Xg30c0 p30c30andg29c0 g30c30 g30c0 or2\n"
     ]
    }
   ],
   "source": [
    "#row9\n",
    "for x in xrange(2,32,2):\n",
    "    greycell(x,x,x-1,0)"
   ]
  },
  {
   "cell_type": "code",
   "execution_count": 107,
   "metadata": {
    "collapsed": false
   },
   "outputs": [
    {
     "name": "stdout",
     "output_type": "stream",
     "text": [
      "Xs0 p0c0 g0c0 s0 xor2\n",
      "Xs1 p1c1 g1c0 s1 xor2\n",
      "Xs2 p2c2 g2c0 s2 xor2\n",
      "Xs3 p3c3 g3c0 s3 xor2\n",
      "Xs4 p4c4 g4c0 s4 xor2\n",
      "Xs5 p5c5 g5c0 s5 xor2\n",
      "Xs6 p6c6 g6c0 s6 xor2\n",
      "Xs7 p7c7 g7c0 s7 xor2\n",
      "Xs8 p8c8 g8c0 s8 xor2\n",
      "Xs9 p9c9 g9c0 s9 xor2\n",
      "Xs10 p10c10 g10c0 s10 xor2\n",
      "Xs11 p11c11 g11c0 s11 xor2\n",
      "Xs12 p12c12 g12c0 s12 xor2\n",
      "Xs13 p13c13 g13c0 s13 xor2\n",
      "Xs14 p14c14 g14c0 s14 xor2\n",
      "Xs15 p15c15 g15c0 s15 xor2\n",
      "Xs16 p16c16 g16c0 s16 xor2\n",
      "Xs17 p17c17 g17c0 s17 xor2\n",
      "Xs18 p18c18 g18c0 s18 xor2\n",
      "Xs19 p19c19 g19c0 s19 xor2\n",
      "Xs20 p20c20 g20c0 s20 xor2\n",
      "Xs21 p21c21 g21c0 s21 xor2\n",
      "Xs22 p22c22 g22c0 s22 xor2\n",
      "Xs23 p23c23 g23c0 s23 xor2\n",
      "Xs24 p24c24 g24c0 s24 xor2\n",
      "Xs25 p25c25 g25c0 s25 xor2\n",
      "Xs26 p26c26 g26c0 s26 xor2\n",
      "Xs27 p27c27 g27c0 s27 xor2\n",
      "Xs28 p28c28 g28c0 s28 xor2\n",
      "Xs29 p29c29 g29c0 s29 xor2\n",
      "Xs30 p30c30 g30c0 s30 xor2\n",
      "Xs31 p31c31 g31c0 s31 xor2\n"
     ]
    }
   ],
   "source": [
    "for x in xrange(32):\n",
    "    print\"Xs%d p%dc%d g%dc0 s%d xor2\" %(x,x,x,x,x)"
   ]
  },
  {
   "cell_type": "code",
   "execution_count": null,
   "metadata": {
    "collapsed": false
   },
   "outputs": [],
   "source": []
  },
  {
   "cell_type": "code",
   "execution_count": null,
   "metadata": {
    "collapsed": true
   },
   "outputs": [],
   "source": [
    "KS"
   ]
  }
 ],
 "metadata": {
  "kernelspec": {
   "display_name": "Python 2",
   "language": "python",
   "name": "python2"
  },
  "language_info": {
   "codemirror_mode": {
    "name": "ipython",
    "version": 2
   },
   "file_extension": ".py",
   "mimetype": "text/x-python",
   "name": "python",
   "nbconvert_exporter": "python",
   "pygments_lexer": "ipython2",
   "version": "2.7.13"
  }
 },
 "nbformat": 4,
 "nbformat_minor": 0
}
