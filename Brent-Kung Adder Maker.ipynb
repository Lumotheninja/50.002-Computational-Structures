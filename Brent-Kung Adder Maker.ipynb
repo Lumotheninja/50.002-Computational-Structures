{
 "cells": [
  {
   "cell_type": "markdown",
   "metadata": {},
   "source": [
    "Codes for implementing a Brent-Kung adder"
   ]
  },
  {
   "cell_type": "code",
   "execution_count": 310,
   "metadata": {
    "collapsed": false
   },
   "outputs": [
    {
     "name": "stdout",
     "output_type": "stream",
     "text": [
      "Xp1c1 a1 b1 p1c1 xor2\n",
      "Xg1c1 a1 b1 g1c1 and2\n",
      "Xp2c2 a2 b2 p2c2 xor2\n",
      "Xg2c2 a2 b2 g2c2 and2\n",
      "Xp3c3 a3 b3 p3c3 xor2\n",
      "Xg3c3 a3 b3 g3c3 and2\n",
      "Xp4c4 a4 b4 p4c4 xor2\n",
      "Xg4c4 a4 b4 g4c4 and2\n",
      "Xp5c5 a5 b5 p5c5 xor2\n",
      "Xg5c5 a5 b5 g5c5 and2\n",
      "Xp6c6 a6 b6 p6c6 xor2\n",
      "Xg6c6 a6 b6 g6c6 and2\n",
      "Xp7c7 a7 b7 p7c7 xor2\n",
      "Xg7c7 a7 b7 g7c7 and2\n",
      "Xp8c8 a8 b8 p8c8 xor2\n",
      "Xg8c8 a8 b8 g8c8 and2\n",
      "Xp9c9 a9 b9 p9c9 xor2\n",
      "Xg9c9 a9 b9 g9c9 and2\n",
      "Xp10c10 a10 b10 p10c10 xor2\n",
      "Xg10c10 a10 b10 g10c10 and2\n",
      "Xp11c11 a11 b11 p11c11 xor2\n",
      "Xg11c11 a11 b11 g11c11 and2\n",
      "Xp12c12 a12 b12 p12c12 xor2\n",
      "Xg12c12 a12 b12 g12c12 and2\n",
      "Xp13c13 a13 b13 p13c13 xor2\n",
      "Xg13c13 a13 b13 g13c13 and2\n",
      "Xp14c14 a14 b14 p14c14 xor2\n",
      "Xg14c14 a14 b14 g14c14 and2\n",
      "Xp15c15 a15 b15 p15c15 xor2\n",
      "Xg15c15 a15 b15 g15c15 and2\n",
      "Xp16c16 a16 b16 p16c16 xor2\n",
      "Xg16c16 a16 b16 g16c16 and2\n",
      "Xp17c17 a17 b17 p17c17 xor2\n",
      "Xg17c17 a17 b17 g17c17 and2\n",
      "Xp18c18 a18 b18 p18c18 xor2\n",
      "Xg18c18 a18 b18 g18c18 and2\n",
      "Xp19c19 a19 b19 p19c19 xor2\n",
      "Xg19c19 a19 b19 g19c19 and2\n",
      "Xp20c20 a20 b20 p20c20 xor2\n",
      "Xg20c20 a20 b20 g20c20 and2\n",
      "Xp21c21 a21 b21 p21c21 xor2\n",
      "Xg21c21 a21 b21 g21c21 and2\n",
      "Xp22c22 a22 b22 p22c22 xor2\n",
      "Xg22c22 a22 b22 g22c22 and2\n",
      "Xp23c23 a23 b23 p23c23 xor2\n",
      "Xg23c23 a23 b23 g23c23 and2\n",
      "Xp24c24 a24 b24 p24c24 xor2\n",
      "Xg24c24 a24 b24 g24c24 and2\n",
      "Xp25c25 a25 b25 p25c25 xor2\n",
      "Xg25c25 a25 b25 g25c25 and2\n",
      "Xp26c26 a26 b26 p26c26 xor2\n",
      "Xg26c26 a26 b26 g26c26 and2\n",
      "Xp27c27 a27 b27 p27c27 xor2\n",
      "Xg27c27 a27 b27 g27c27 and2\n",
      "Xp28c28 a28 b28 p28c28 xor2\n",
      "Xg28c28 a28 b28 g28c28 and2\n",
      "Xp29c29 a29 b29 p29c29 xor2\n",
      "Xg29c29 a29 b29 g29c29 and2\n",
      "Xp30c30 a30 b30 p30c30 xor2\n",
      "Xg30c30 a30 b30 g30c30 and2\n",
      "Xp31c31 a31 b31 p31c31 xor2\n",
      "Xg31c31 a31 b31 g31c31 and2\n",
      "Xp32c32 a32 b32 p32c32 xor2\n",
      "Xg32c32 a32 b32 g32c32 and2\n"
     ]
    }
   ],
   "source": [
    "#old way of generating the initial p's and g's using xor and and\n",
    "for x in xrange(1,33):\n",
    "    #printing out all the p's and g's\n",
    "    print \"Xp%dc%d a%d b%d p%dc%d xor2\" %(x,x,x,x,x,x)\n",
    "    print \"Xg%dc%d a%d b%d g%dc%d and2\" %(x,x,x,x,x,x)"
   ]
  },
  {
   "cell_type": "code",
   "execution_count": 309,
   "metadata": {
    "collapsed": false
   },
   "outputs": [
    {
     "name": "stdout",
     "output_type": "stream",
     "text": [
      "Xp1c1 a1 b1 p1c1 xor2\n",
      "Xng1c1 a1 b1 ng1c1 nand2\n",
      "Xg1c1 ng1c1 g1c1 inverter\n",
      "Xp2c2 a2 b2 p2c2 xor2\n",
      "Xng2c2 a2 b2 ng2c2 nand2\n",
      "Xg2c2 ng2c2 g2c2 inverter\n",
      "Xp3c3 a3 b3 p3c3 xor2\n",
      "Xng3c3 a3 b3 ng3c3 nand2\n",
      "Xg3c3 ng3c3 g3c3 inverter\n",
      "Xp4c4 a4 b4 p4c4 xor2\n",
      "Xng4c4 a4 b4 ng4c4 nand2\n",
      "Xg4c4 ng4c4 g4c4 inverter\n",
      "Xp5c5 a5 b5 p5c5 xor2\n",
      "Xng5c5 a5 b5 ng5c5 nand2\n",
      "Xg5c5 ng5c5 g5c5 inverter\n",
      "Xp6c6 a6 b6 p6c6 xor2\n",
      "Xng6c6 a6 b6 ng6c6 nand2\n",
      "Xg6c6 ng6c6 g6c6 inverter\n",
      "Xp7c7 a7 b7 p7c7 xor2\n",
      "Xng7c7 a7 b7 ng7c7 nand2\n",
      "Xg7c7 ng7c7 g7c7 inverter\n",
      "Xp8c8 a8 b8 p8c8 xor2\n",
      "Xng8c8 a8 b8 ng8c8 nand2\n",
      "Xg8c8 ng8c8 g8c8 inverter\n",
      "Xp9c9 a9 b9 p9c9 xor2\n",
      "Xng9c9 a9 b9 ng9c9 nand2\n",
      "Xg9c9 ng9c9 g9c9 inverter\n",
      "Xp10c10 a10 b10 p10c10 xor2\n",
      "Xng10c10 a10 b10 ng10c10 nand2\n",
      "Xg10c10 ng10c10 g10c10 inverter\n",
      "Xp11c11 a11 b11 p11c11 xor2\n",
      "Xng11c11 a11 b11 ng11c11 nand2\n",
      "Xg11c11 ng11c11 g11c11 inverter\n",
      "Xp12c12 a12 b12 p12c12 xor2\n",
      "Xng12c12 a12 b12 ng12c12 nand2\n",
      "Xg12c12 ng12c12 g12c12 inverter\n",
      "Xp13c13 a13 b13 p13c13 xor2\n",
      "Xng13c13 a13 b13 ng13c13 nand2\n",
      "Xg13c13 ng13c13 g13c13 inverter\n",
      "Xp14c14 a14 b14 p14c14 xor2\n",
      "Xng14c14 a14 b14 ng14c14 nand2\n",
      "Xg14c14 ng14c14 g14c14 inverter\n",
      "Xp15c15 a15 b15 p15c15 xor2\n",
      "Xng15c15 a15 b15 ng15c15 nand2\n",
      "Xg15c15 ng15c15 g15c15 inverter\n",
      "Xp16c16 a16 b16 p16c16 xor2\n",
      "Xng16c16 a16 b16 ng16c16 nand2\n",
      "Xg16c16 ng16c16 g16c16 inverter\n",
      "Xp17c17 a17 b17 p17c17 xor2\n",
      "Xng17c17 a17 b17 ng17c17 nand2\n",
      "Xg17c17 ng17c17 g17c17 inverter\n",
      "Xp18c18 a18 b18 p18c18 xor2\n",
      "Xng18c18 a18 b18 ng18c18 nand2\n",
      "Xg18c18 ng18c18 g18c18 inverter\n",
      "Xp19c19 a19 b19 p19c19 xor2\n",
      "Xng19c19 a19 b19 ng19c19 nand2\n",
      "Xg19c19 ng19c19 g19c19 inverter\n",
      "Xp20c20 a20 b20 p20c20 xor2\n",
      "Xng20c20 a20 b20 ng20c20 nand2\n",
      "Xg20c20 ng20c20 g20c20 inverter\n",
      "Xp21c21 a21 b21 p21c21 xor2\n",
      "Xng21c21 a21 b21 ng21c21 nand2\n",
      "Xg21c21 ng21c21 g21c21 inverter\n",
      "Xp22c22 a22 b22 p22c22 xor2\n",
      "Xng22c22 a22 b22 ng22c22 nand2\n",
      "Xg22c22 ng22c22 g22c22 inverter\n",
      "Xp23c23 a23 b23 p23c23 xor2\n",
      "Xng23c23 a23 b23 ng23c23 nand2\n",
      "Xg23c23 ng23c23 g23c23 inverter\n",
      "Xp24c24 a24 b24 p24c24 xor2\n",
      "Xng24c24 a24 b24 ng24c24 nand2\n",
      "Xg24c24 ng24c24 g24c24 inverter\n",
      "Xp25c25 a25 b25 p25c25 xor2\n",
      "Xng25c25 a25 b25 ng25c25 nand2\n",
      "Xg25c25 ng25c25 g25c25 inverter\n",
      "Xp26c26 a26 b26 p26c26 xor2\n",
      "Xng26c26 a26 b26 ng26c26 nand2\n",
      "Xg26c26 ng26c26 g26c26 inverter\n",
      "Xp27c27 a27 b27 p27c27 xor2\n",
      "Xng27c27 a27 b27 ng27c27 nand2\n",
      "Xg27c27 ng27c27 g27c27 inverter\n",
      "Xp28c28 a28 b28 p28c28 xor2\n",
      "Xng28c28 a28 b28 ng28c28 nand2\n",
      "Xg28c28 ng28c28 g28c28 inverter\n",
      "Xp29c29 a29 b29 p29c29 xor2\n",
      "Xng29c29 a29 b29 ng29c29 nand2\n",
      "Xg29c29 ng29c29 g29c29 inverter\n",
      "Xp30c30 a30 b30 p30c30 xor2\n",
      "Xng30c30 a30 b30 ng30c30 nand2\n",
      "Xg30c30 ng30c30 g30c30 inverter\n",
      "Xp31c31 a31 b31 p31c31 xor2\n",
      "Xng31c31 a31 b31 ng31c31 nand2\n",
      "Xg31c31 ng31c31 g31c31 inverter\n",
      "Xp32c32 a32 b32 p32c32 xor2\n",
      "Xng32c32 a32 b32 ng32c32 nand2\n",
      "Xg32c32 ng32c32 g32c32 inverter\n"
     ]
    }
   ],
   "source": [
    "for x in xrange(1,33):\n",
    "    #printing out all the p's and g's\n",
    "    print \"Xp%dc%d a%d b%d p%dc%d xor2\" %(x,x,x,x,x,x)\n",
    "    print \"Xng%dc%d a%d b%d ng%dc%d nand2\" %(x,x,x,x,x,x)\n",
    "    print \"Xg%dc%d ng%dc%d g%dc%d inverter\" %(x,x,x,x,x,x)"
   ]
  },
  {
   "cell_type": "code",
   "execution_count": 292,
   "metadata": {
    "collapsed": false,
    "scrolled": true
   },
   "outputs": [
    {
     "name": "stdout",
     "output_type": "stream",
     "text": [
      "Xp1c1 a1 b1 p1c1 xor2\n",
      "Xng1c1 a1 b1 g1c1 nand2\n",
      "Xp2c2 a2 b2 p2c2 xor2\n",
      "Xng2c2 a2 b2 ng2c2 nand2\n",
      "Xg2c2 ng2c2 g2c2 inverter\n",
      "Xp3c3 a3 b3 p3c3 xor2\n",
      "Xng3c3 a3 b3 g3c3 nand2\n",
      "Xp4c4 a4 b4 p4c4 xor2\n",
      "Xng4c4 a4 b4 ng4c4 nand2\n",
      "Xg4c4 ng4c4 g4c4 inverter\n",
      "Xp5c5 a5 b5 p5c5 xor2\n",
      "Xng5c5 a5 b5 g5c5 nand2\n",
      "Xp6c6 a6 b6 p6c6 xor2\n",
      "Xng6c6 a6 b6 ng6c6 nand2\n",
      "Xg6c6 ng6c6 g6c6 inverter\n",
      "Xp7c7 a7 b7 p7c7 xor2\n",
      "Xng7c7 a7 b7 g7c7 nand2\n",
      "Xp8c8 a8 b8 p8c8 xor2\n",
      "Xng8c8 a8 b8 ng8c8 nand2\n",
      "Xg8c8 ng8c8 g8c8 inverter\n",
      "Xp9c9 a9 b9 p9c9 xor2\n",
      "Xng9c9 a9 b9 g9c9 nand2\n",
      "Xp10c10 a10 b10 p10c10 xor2\n",
      "Xng10c10 a10 b10 ng10c10 nand2\n",
      "Xg10c10 ng10c10 g10c10 inverter\n",
      "Xp11c11 a11 b11 p11c11 xor2\n",
      "Xng11c11 a11 b11 g11c11 nand2\n",
      "Xp12c12 a12 b12 p12c12 xor2\n",
      "Xng12c12 a12 b12 ng12c12 nand2\n",
      "Xg12c12 ng12c12 g12c12 inverter\n",
      "Xp13c13 a13 b13 p13c13 xor2\n",
      "Xng13c13 a13 b13 g13c13 nand2\n",
      "Xp14c14 a14 b14 p14c14 xor2\n",
      "Xng14c14 a14 b14 ng14c14 nand2\n",
      "Xg14c14 ng14c14 g14c14 inverter\n",
      "Xp15c15 a15 b15 p15c15 xor2\n",
      "Xng15c15 a15 b15 g15c15 nand2\n",
      "Xp16c16 a16 b16 p16c16 xor2\n",
      "Xng16c16 a16 b16 ng16c16 nand2\n",
      "Xg16c16 ng16c16 g16c16 inverter\n",
      "Xp17c17 a17 b17 p17c17 xor2\n",
      "Xng17c17 a17 b17 g17c17 nand2\n",
      "Xp18c18 a18 b18 p18c18 xor2\n",
      "Xng18c18 a18 b18 ng18c18 nand2\n",
      "Xg18c18 ng18c18 g18c18 inverter\n",
      "Xp19c19 a19 b19 p19c19 xor2\n",
      "Xng19c19 a19 b19 g19c19 nand2\n",
      "Xp20c20 a20 b20 p20c20 xor2\n",
      "Xng20c20 a20 b20 ng20c20 nand2\n",
      "Xg20c20 ng20c20 g20c20 inverter\n",
      "Xp21c21 a21 b21 p21c21 xor2\n",
      "Xng21c21 a21 b21 g21c21 nand2\n",
      "Xp22c22 a22 b22 p22c22 xor2\n",
      "Xng22c22 a22 b22 ng22c22 nand2\n",
      "Xg22c22 ng22c22 g22c22 inverter\n",
      "Xp23c23 a23 b23 p23c23 xor2\n",
      "Xng23c23 a23 b23 g23c23 nand2\n",
      "Xp24c24 a24 b24 p24c24 xor2\n",
      "Xng24c24 a24 b24 ng24c24 nand2\n",
      "Xg24c24 ng24c24 g24c24 inverter\n",
      "Xp25c25 a25 b25 p25c25 xor2\n",
      "Xng25c25 a25 b25 g25c25 nand2\n",
      "Xp26c26 a26 b26 p26c26 xor2\n",
      "Xng26c26 a26 b26 ng26c26 nand2\n",
      "Xg26c26 ng26c26 g26c26 inverter\n",
      "Xp27c27 a27 b27 p27c27 xor2\n",
      "Xng27c27 a27 b27 g27c27 nand2\n",
      "Xp28c28 a28 b28 p28c28 xor2\n",
      "Xng28c28 a28 b28 ng28c28 nand2\n",
      "Xg28c28 ng28c28 g28c28 inverter\n",
      "Xp29c29 a29 b29 p29c29 xor2\n",
      "Xng29c29 a29 b29 g29c29 nand2\n",
      "Xp30c30 a30 b30 p30c30 xor2\n",
      "Xng30c30 a30 b30 ng30c30 nand2\n",
      "Xg30c30 ng30c30 g30c30 inverter\n",
      "Xp31c31 a31 b31 p31c31 xor2\n",
      "Xng31c31 a31 b31 g31c31 nand2\n",
      "Xp32c32 a32 b32 p32c32 xor2\n",
      "Xng32c32 a32 b32 ng32c32 nand2\n",
      "Xg32c32 ng32c32 g32c32 inverter\n"
     ]
    }
   ],
   "source": [
    "#new way of generating the initial p's and g's using xor and and, and not inverting for odd numbers(not used)\n",
    "for x in xrange(1,33):\n",
    "    #printing out all the p's and g's\n",
    "    if x%2==0 :\n",
    "        print \"Xp%dc%d a%d b%d p%dc%d xor2\" %(x,x,x,x,x,x)\n",
    "        print \"Xng%dc%d a%d b%d ng%dc%d nand2\" %(x,x,x,x,x,x)\n",
    "        print \"Xg%dc%d ng%dc%d g%dc%d inverter\" %(x,x,x,x,x,x)\n",
    "    else:\n",
    "        print \"Xp%dc%d a%d b%d p%dc%d xor2\" %(x,x,x,x,x,x)\n",
    "        print \"Xng%dc%d a%d b%d g%dc%d nand2\" %(x,x,x,x,x,x)"
   ]
  },
  {
   "cell_type": "code",
   "execution_count": 202,
   "metadata": {
    "collapsed": true
   },
   "outputs": [],
   "source": [
    "#old way of generating black cell and white cell using and and or\n",
    "def blackcell0(a,b,c,d):\n",
    "    print \"Xp%dc%d p%dc%d p%dc%d p%dc%d and2\" %(a,d,a,b,c,d,a,d)\n",
    "    print \"Xp%dc%dandg%dc%d p%dc%d g%dc%d p%dc%dandg%dc%d and2\" %(a,b,c,d,a,b,c,d,a,b,c,d)\n",
    "    print \"Xg%dc%d p%dc%dandg%dc%d g%dc%d g%dc%d or2\" %(a,d,a,b,c,d,a,b,a,d)\n",
    "    \n",
    "def greycell0(a,b,c,d):\n",
    "    print \"Xp%dc%dandg%dc%d p%dc%d g%dc%d p%dc%dandg%dc%d and2\" %(a,b,c,d,a,b,c,d,a,b,c,d)\n",
    "    print \"Xg%dc%d p%dc%dandg%dc%d g%dc%d g%dc%d or2\" %(a,d,a,b,c,d,a,b,a,d)"
   ]
  },
  {
   "cell_type": "code",
   "execution_count": 203,
   "metadata": {
    "collapsed": true
   },
   "outputs": [],
   "source": [
    "#new way of generating black cell and white cell using inverters, nand\n",
    "def blackcell(a,b,c,d):\n",
    "    print \"Xng%dc%d g%dc%d ng%dc%d inverter\" %(a,b,a,b,a,b)\n",
    "    print \"Xnp%dc%dandg%dc%d p%dc%d g%dc%d np%dc%dandg%dc%d nand2\" %(a,b,c,d,a,b,c,d,a,b,c,d)\n",
    "    print \"Xg%dc%d np%dc%dandg%dc%d ng%dc%d g%dc%d nand2\" %(a,d,a,b,c,d,a,b,a,d)\n",
    "    print \"Xnp%dc%d p%dc%d p%dc%d np%dc%d nand2\" %(a,d,a,b,c,d,a,d)\n",
    "    print \"Xp%dc%d np%dc%d p%dc%d inverter\" %(a,d,a,d,a,d)\n",
    "    \n",
    "def greycell (a,b,c,d):\n",
    "    print \"Xng%dc%d g%dc%d ng%dc%d inverter\" %(a,b,a,b,a,b)\n",
    "    print \"Xnp%dc%dandg%dc%d p%dc%d g%dc%d np%dc%dandg%dc%d nand2\" %(a,b,c,d,a,b,c,d,a,b,c,d)\n",
    "    print \"Xg%dc%d np%dc%dandg%dc%d ng%dc%d g%dc%d nand2\" %(a,d,a,b,c,d,a,b,a,d)"
   ]
  },
  {
   "cell_type": "code",
   "execution_count": 244,
   "metadata": {
    "collapsed": true
   },
   "outputs": [],
   "source": [
    "#new way of generating black cell and white cell using inverters, nand but used in row 1 and 9 because we don't have to invert the inputs\n",
    "def blackcell2(a,b,c,d):\n",
    "    print \"Xnp%dc%dandg%dc%d p%dc%d g%dc%d np%dc%dandg%dc%d nand2\" %(a,b,c,d,a,b,c,d,a,b,c,d)\n",
    "    print \"Xg%dc%d np%dc%dandg%dc%d ng%dc%d g%dc%d nand2\" %(a,d,a,b,c,d,a,b,a,d)\n",
    "    print \"Xnp%dc%d p%dc%d p%dc%d np%dc%d nand2\" %(a,d,a,b,c,d,a,d)\n",
    "    print \"Xp%dc%d np%dc%d p%dc%d inverter\" %(a,d,a,d,a,d)\n",
    "    \n",
    "def greycell2 (a,b,c,d):\n",
    "    print \"Xnp%dc%dandg%dc%d p%dc%d g%dc%d np%dc%dandg%dc%d nand2\" %(a,b,c,d,a,b,c,d,a,b,c,d)\n",
    "    print \"Xg%dc%d np%dc%dandg%dc%d ng%dc%d g%dc%d nand2\" %(a,d,a,b,c,d,a,b,a,d)"
   ]
  },
  {
   "cell_type": "code",
   "execution_count": 298,
   "metadata": {
    "collapsed": true
   },
   "outputs": [],
   "source": [
    "#new way of generating black cell and white cell using aoi21\n",
    "def blackcell3(a,b,c,d):\n",
    "    print \"Xaoi%d%d g%dc%d p%dc%d g%dc%d ng%dc%d aoi21\" %(a,d,c,d,a,b,a,b,a,d)\n",
    "    print \"Xg%dc%d ng%dc%d g%dc%d inverter\" %(a,d,a,d,a,d)\n",
    "    print \"Xnp%dc%d p%dc%d p%dc%d np%dc%d nand2\" %(a,d,a,b,c,d,a,d)\n",
    "    print \"Xp%dc%d np%dc%d p%dc%d inverter\" %(a,d,a,d,a,d)\n",
    "    \n",
    "def greycell3(a,b,c,d):\n",
    "    print \"Xaoi%d%d g%dc%d p%dc%d g%dc%d ng%dc%d aoi21\" %(a,d,c,d,a,b,a,b,a,d)\n",
    "    print \"Xg%dc%d ng%dc%d g%dc%d inverter\" %(a,d,a,d,a,d)"
   ]
  },
  {
   "cell_type": "code",
   "execution_count": 276,
   "metadata": {
    "collapsed": true
   },
   "outputs": [],
   "source": [
    "#new way of generating black cell and white cell using nors, inverters and nands but used in row 3 and 5 because we don't have to invert the inputs\n",
    "def blackcellreverse(a,b,c,d):\n",
    "    print \"Xng%dc%d g%dc%d ng%dc%d inverter\" %(a,b,a,b,a,b)\n",
    "    print \"Xnp%dc%dandg%dc%d p%dc%d g%dc%d np%dc%dandg%dc%d nand2\" %(a,b,c,d,a,b,c,d,a,b,c,d)\n",
    "    print \"Xg%dc%d np%dc%dandg%dc%d ng%dc%d g%dc%d nand2\" %(a,d,a,b,c,d,a,b,a,d)\n",
    "    print \"Xnp%dc%d np%dc%d np%dc%d p%dc%d nor2\" %(a,d,a,b,c,d,a,d)"
   ]
  },
  {
   "cell_type": "markdown",
   "metadata": {},
   "source": [
    "BK"
   ]
  },
  {
   "cell_type": "code",
   "execution_count": null,
   "metadata": {
    "collapsed": true
   },
   "outputs": [],
   "source": []
  },
  {
   "cell_type": "code",
   "execution_count": 312,
   "metadata": {
    "collapsed": false
   },
   "outputs": [
    {
     "name": "stdout",
     "output_type": "stream",
     "text": [
      "Xnp1c1andg0c0 p1c1 g0c0 np1c1andg0c0 nand2\n",
      "Xg1c0 np1c1andg0c0 ng1c1 g1c0 nand2\n",
      "Xnp3c3andg2c2 p3c3 g2c2 np3c3andg2c2 nand2\n",
      "Xg3c2 np3c3andg2c2 ng3c3 g3c2 nand2\n",
      "Xnp3c2 p3c3 p2c2 np3c2 nand2\n",
      "Xp3c2 np3c2 p3c2 inverter\n",
      "Xnp5c5andg4c4 p5c5 g4c4 np5c5andg4c4 nand2\n",
      "Xg5c4 np5c5andg4c4 ng5c5 g5c4 nand2\n",
      "Xnp5c4 p5c5 p4c4 np5c4 nand2\n",
      "Xp5c4 np5c4 p5c4 inverter\n",
      "Xnp7c7andg6c6 p7c7 g6c6 np7c7andg6c6 nand2\n",
      "Xg7c6 np7c7andg6c6 ng7c7 g7c6 nand2\n",
      "Xnp7c6 p7c7 p6c6 np7c6 nand2\n",
      "Xp7c6 np7c6 p7c6 inverter\n",
      "Xnp9c9andg8c8 p9c9 g8c8 np9c9andg8c8 nand2\n",
      "Xg9c8 np9c9andg8c8 ng9c9 g9c8 nand2\n",
      "Xnp9c8 p9c9 p8c8 np9c8 nand2\n",
      "Xp9c8 np9c8 p9c8 inverter\n",
      "Xnp11c11andg10c10 p11c11 g10c10 np11c11andg10c10 nand2\n",
      "Xg11c10 np11c11andg10c10 ng11c11 g11c10 nand2\n",
      "Xnp11c10 p11c11 p10c10 np11c10 nand2\n",
      "Xp11c10 np11c10 p11c10 inverter\n",
      "Xnp13c13andg12c12 p13c13 g12c12 np13c13andg12c12 nand2\n",
      "Xg13c12 np13c13andg12c12 ng13c13 g13c12 nand2\n",
      "Xnp13c12 p13c13 p12c12 np13c12 nand2\n",
      "Xp13c12 np13c12 p13c12 inverter\n",
      "Xnp15c15andg14c14 p15c15 g14c14 np15c15andg14c14 nand2\n",
      "Xg15c14 np15c15andg14c14 ng15c15 g15c14 nand2\n",
      "Xnp15c14 p15c15 p14c14 np15c14 nand2\n",
      "Xp15c14 np15c14 p15c14 inverter\n",
      "Xnp17c17andg16c16 p17c17 g16c16 np17c17andg16c16 nand2\n",
      "Xg17c16 np17c17andg16c16 ng17c17 g17c16 nand2\n",
      "Xnp17c16 p17c17 p16c16 np17c16 nand2\n",
      "Xp17c16 np17c16 p17c16 inverter\n",
      "Xnp19c19andg18c18 p19c19 g18c18 np19c19andg18c18 nand2\n",
      "Xg19c18 np19c19andg18c18 ng19c19 g19c18 nand2\n",
      "Xnp19c18 p19c19 p18c18 np19c18 nand2\n",
      "Xp19c18 np19c18 p19c18 inverter\n",
      "Xnp21c21andg20c20 p21c21 g20c20 np21c21andg20c20 nand2\n",
      "Xg21c20 np21c21andg20c20 ng21c21 g21c20 nand2\n",
      "Xnp21c20 p21c21 p20c20 np21c20 nand2\n",
      "Xp21c20 np21c20 p21c20 inverter\n",
      "Xnp23c23andg22c22 p23c23 g22c22 np23c23andg22c22 nand2\n",
      "Xg23c22 np23c23andg22c22 ng23c23 g23c22 nand2\n",
      "Xnp23c22 p23c23 p22c22 np23c22 nand2\n",
      "Xp23c22 np23c22 p23c22 inverter\n",
      "Xnp25c25andg24c24 p25c25 g24c24 np25c25andg24c24 nand2\n",
      "Xg25c24 np25c25andg24c24 ng25c25 g25c24 nand2\n",
      "Xnp25c24 p25c25 p24c24 np25c24 nand2\n",
      "Xp25c24 np25c24 p25c24 inverter\n",
      "Xnp27c27andg26c26 p27c27 g26c26 np27c27andg26c26 nand2\n",
      "Xg27c26 np27c27andg26c26 ng27c27 g27c26 nand2\n",
      "Xnp27c26 p27c27 p26c26 np27c26 nand2\n",
      "Xp27c26 np27c26 p27c26 inverter\n",
      "Xnp29c29andg28c28 p29c29 g28c28 np29c29andg28c28 nand2\n",
      "Xg29c28 np29c29andg28c28 ng29c29 g29c28 nand2\n",
      "Xnp29c28 p29c29 p28c28 np29c28 nand2\n",
      "Xp29c28 np29c28 p29c28 inverter\n",
      "Xnp31c31andg30c30 p31c31 g30c30 np31c31andg30c30 nand2\n",
      "Xg31c30 np31c31andg30c30 ng31c31 g31c30 nand2\n",
      "Xnp31c30 p31c31 p30c30 np31c30 nand2\n",
      "Xp31c30 np31c30 p31c30 inverter\n"
     ]
    }
   ],
   "source": [
    "# row1 \n",
    "greycell2(1,1,0,0)\n",
    "for x in xrange(2,32,2):\n",
    "    blackcell2(x+1,x+1,x,x)"
   ]
  },
  {
   "cell_type": "code",
   "execution_count": 311,
   "metadata": {
    "collapsed": false
   },
   "outputs": [
    {
     "name": "stdout",
     "output_type": "stream",
     "text": [
      "Xng3c2 g3c2 ng3c2 inverter\n",
      "Xnp3c2andg1c0 p3c2 g1c0 np3c2andg1c0 nand2\n",
      "Xg3c0 np3c2andg1c0 ng3c2 g3c0 nand2\n",
      "Xng7c6 g7c6 ng7c6 inverter\n",
      "Xnp7c6andg5c4 p7c6 g5c4 np7c6andg5c4 nand2\n",
      "Xg7c4 np7c6andg5c4 ng7c6 g7c4 nand2\n",
      "Xnp7c4 p7c6 p5c4 np7c4 nand2\n",
      "Xp7c4 np7c4 p7c4 inverter\n",
      "Xng11c10 g11c10 ng11c10 inverter\n",
      "Xnp11c10andg9c8 p11c10 g9c8 np11c10andg9c8 nand2\n",
      "Xg11c8 np11c10andg9c8 ng11c10 g11c8 nand2\n",
      "Xnp11c8 np11c10 np9c8 p11c8 nor2\n",
      "Xng15c14 g15c14 ng15c14 inverter\n",
      "Xnp15c14andg13c12 p15c14 g13c12 np15c14andg13c12 nand2\n",
      "Xg15c12 np15c14andg13c12 ng15c14 g15c12 nand2\n",
      "Xnp15c12 np15c14 np13c12 p15c12 nor2\n",
      "Xng19c18 g19c18 ng19c18 inverter\n",
      "Xnp19c18andg17c16 p19c18 g17c16 np19c18andg17c16 nand2\n",
      "Xg19c16 np19c18andg17c16 ng19c18 g19c16 nand2\n",
      "Xnp19c16 np19c18 np17c16 p19c16 nor2\n",
      "Xng23c22 g23c22 ng23c22 inverter\n",
      "Xnp23c22andg21c20 p23c22 g21c20 np23c22andg21c20 nand2\n",
      "Xg23c20 np23c22andg21c20 ng23c22 g23c20 nand2\n",
      "Xnp23c20 np23c22 np21c20 p23c20 nor2\n",
      "Xng27c26 g27c26 ng27c26 inverter\n",
      "Xnp27c26andg25c24 p27c26 g25c24 np27c26andg25c24 nand2\n",
      "Xg27c24 np27c26andg25c24 ng27c26 g27c24 nand2\n",
      "Xnp27c24 np27c26 np25c24 p27c24 nor2\n",
      "Xng31c30 g31c30 ng31c30 inverter\n",
      "Xnp31c30andg29c28 p31c30 g29c28 np31c30andg29c28 nand2\n",
      "Xg31c28 np31c30andg29c28 ng31c30 g31c28 nand2\n",
      "Xnp31c28 np31c30 np29c28 p31c28 nor2\n"
     ]
    }
   ],
   "source": [
    "# row2\n",
    "greycell(3,2,1,0)\n",
    "blackcell(7,6,5,4)\n",
    "for x in xrange(8,32,4):\n",
    "    blackcellreverse(x+3,x+2,x+1,x)"
   ]
  },
  {
   "cell_type": "code",
   "execution_count": 314,
   "metadata": {
    "collapsed": false
   },
   "outputs": [
    {
     "name": "stdout",
     "output_type": "stream",
     "text": [
      "Xng7c4 g7c4 ng7c4 inverter\n",
      "Xnp7c4andg3c0 p7c4 g3c0 np7c4andg3c0 nand2\n",
      "Xg7c0 np7c4andg3c0 ng7c4 g7c0 nand2\n",
      "Xng15c12 g15c12 ng15c12 inverter\n",
      "Xnp15c12andg11c8 p15c12 g11c8 np15c12andg11c8 nand2\n",
      "Xg15c8 np15c12andg11c8 ng15c12 g15c8 nand2\n",
      "Xnp15c8 p15c12 p11c8 np15c8 nand2\n",
      "Xp15c8 np15c8 p15c8 inverter\n",
      "Xng23c20 g23c20 ng23c20 inverter\n",
      "Xnp23c20andg19c16 p23c20 g19c16 np23c20andg19c16 nand2\n",
      "Xg23c16 np23c20andg19c16 ng23c20 g23c16 nand2\n",
      "Xnp23c16 p23c20 p19c16 np23c16 nand2\n",
      "Xp23c16 np23c16 p23c16 inverter\n",
      "Xng31c28 g31c28 ng31c28 inverter\n",
      "Xnp31c28andg27c24 p31c28 g27c24 np31c28andg27c24 nand2\n",
      "Xg31c24 np31c28andg27c24 ng31c28 g31c24 nand2\n",
      "Xnp31c24 p31c28 p27c24 np31c24 nand2\n",
      "Xp31c24 np31c24 p31c24 inverter\n"
     ]
    }
   ],
   "source": [
    "# row3\n",
    "greycell(7,4,3,0)\n",
    "for x in xrange(8,32,8):\n",
    "    blackcell(x+7,x+4,x+3,x)\n"
   ]
  },
  {
   "cell_type": "code",
   "execution_count": 313,
   "metadata": {
    "collapsed": false
   },
   "outputs": [
    {
     "name": "stdout",
     "output_type": "stream",
     "text": [
      "Xaoi150 g7c0 p15c8 g15c8 ng15c0 aoi21\n",
      "Xg15c0 ng15c0 g15c0 inverter\n",
      "Xng31c24 g31c24 ng31c24 inverter\n",
      "Xnp31c24andg23c16 p31c24 g23c16 np31c24andg23c16 nand2\n",
      "Xg31c16 np31c24andg23c16 ng31c24 g31c16 nand2\n",
      "Xnp31c16 np31c24 np23c16 p31c16 nor2\n"
     ]
    }
   ],
   "source": [
    "#row4\n",
    "greycell3(15,8,7,0)\n",
    "blackcellreverse(31,24,23,16)"
   ]
  },
  {
   "cell_type": "code",
   "execution_count": 315,
   "metadata": {
    "collapsed": false
   },
   "outputs": [
    {
     "name": "stdout",
     "output_type": "stream",
     "text": [
      "Xng31c16 g31c16 ng31c16 inverter\n",
      "Xnp31c16andg15c0 p31c16 g15c0 np31c16andg15c0 nand2\n",
      "Xg31c0 np31c16andg15c0 ng31c16 g31c0 nand2\n"
     ]
    }
   ],
   "source": [
    "#row5\n",
    "greycell(31,16,15,0)"
   ]
  },
  {
   "cell_type": "code",
   "execution_count": 316,
   "metadata": {
    "collapsed": false
   },
   "outputs": [
    {
     "name": "stdout",
     "output_type": "stream",
     "text": [
      "Xng23c16 g23c16 ng23c16 inverter\n",
      "Xnp23c16andg15c0 p23c16 g15c0 np23c16andg15c0 nand2\n",
      "Xg23c0 np23c16andg15c0 ng23c16 g23c0 nand2\n"
     ]
    }
   ],
   "source": [
    "#row6\n",
    "greycell(23,16,15,0)"
   ]
  },
  {
   "cell_type": "code",
   "execution_count": 317,
   "metadata": {
    "collapsed": false
   },
   "outputs": [
    {
     "name": "stdout",
     "output_type": "stream",
     "text": [
      "Xng11c8 g11c8 ng11c8 inverter\n",
      "Xnp11c8andg7c0 p11c8 g7c0 np11c8andg7c0 nand2\n",
      "Xg11c0 np11c8andg7c0 ng11c8 g11c0 nand2\n",
      "Xng19c16 g19c16 ng19c16 inverter\n",
      "Xnp19c16andg15c0 p19c16 g15c0 np19c16andg15c0 nand2\n",
      "Xg19c0 np19c16andg15c0 ng19c16 g19c0 nand2\n",
      "Xng27c24 g27c24 ng27c24 inverter\n",
      "Xnp27c24andg23c0 p27c24 g23c0 np27c24andg23c0 nand2\n",
      "Xg27c0 np27c24andg23c0 ng27c24 g27c0 nand2\n"
     ]
    }
   ],
   "source": [
    "#row7\n",
    "for x in xrange(3):\n",
    "    greycell(11+8*x,8+8*x,7+8*x,0)"
   ]
  },
  {
   "cell_type": "code",
   "execution_count": 318,
   "metadata": {
    "collapsed": false
   },
   "outputs": [
    {
     "name": "stdout",
     "output_type": "stream",
     "text": [
      "Xng5c4 g5c4 ng5c4 inverter\n",
      "Xnp5c4andg3c0 p5c4 g3c0 np5c4andg3c0 nand2\n",
      "Xg5c0 np5c4andg3c0 ng5c4 g5c0 nand2\n",
      "Xng9c8 g9c8 ng9c8 inverter\n",
      "Xnp9c8andg7c0 p9c8 g7c0 np9c8andg7c0 nand2\n",
      "Xg9c0 np9c8andg7c0 ng9c8 g9c0 nand2\n",
      "Xng13c12 g13c12 ng13c12 inverter\n",
      "Xnp13c12andg11c0 p13c12 g11c0 np13c12andg11c0 nand2\n",
      "Xg13c0 np13c12andg11c0 ng13c12 g13c0 nand2\n",
      "Xng17c16 g17c16 ng17c16 inverter\n",
      "Xnp17c16andg15c0 p17c16 g15c0 np17c16andg15c0 nand2\n",
      "Xg17c0 np17c16andg15c0 ng17c16 g17c0 nand2\n",
      "Xng21c20 g21c20 ng21c20 inverter\n",
      "Xnp21c20andg19c0 p21c20 g19c0 np21c20andg19c0 nand2\n",
      "Xg21c0 np21c20andg19c0 ng21c20 g21c0 nand2\n",
      "Xng25c24 g25c24 ng25c24 inverter\n",
      "Xnp25c24andg23c0 p25c24 g23c0 np25c24andg23c0 nand2\n",
      "Xg25c0 np25c24andg23c0 ng25c24 g25c0 nand2\n",
      "Xng29c28 g29c28 ng29c28 inverter\n",
      "Xnp29c28andg27c0 p29c28 g27c0 np29c28andg27c0 nand2\n",
      "Xg29c0 np29c28andg27c0 ng29c28 g29c0 nand2\n"
     ]
    }
   ],
   "source": [
    "#row8\n",
    "for x in xrange(7):\n",
    "    greycell(5+4*x,4+4*x,3+4*x,0)"
   ]
  },
  {
   "cell_type": "code",
   "execution_count": 319,
   "metadata": {
    "collapsed": false
   },
   "outputs": [
    {
     "name": "stdout",
     "output_type": "stream",
     "text": [
      "Xng2c2 g2c2 ng2c2 inverter\n",
      "Xnp2c2andg1c0 p2c2 g1c0 np2c2andg1c0 nand2\n",
      "Xg2c0 np2c2andg1c0 ng2c2 g2c0 nand2\n",
      "Xng4c4 g4c4 ng4c4 inverter\n",
      "Xnp4c4andg3c0 p4c4 g3c0 np4c4andg3c0 nand2\n",
      "Xg4c0 np4c4andg3c0 ng4c4 g4c0 nand2\n",
      "Xng6c6 g6c6 ng6c6 inverter\n",
      "Xnp6c6andg5c0 p6c6 g5c0 np6c6andg5c0 nand2\n",
      "Xg6c0 np6c6andg5c0 ng6c6 g6c0 nand2\n",
      "Xng8c8 g8c8 ng8c8 inverter\n",
      "Xnp8c8andg7c0 p8c8 g7c0 np8c8andg7c0 nand2\n",
      "Xg8c0 np8c8andg7c0 ng8c8 g8c0 nand2\n",
      "Xng10c10 g10c10 ng10c10 inverter\n",
      "Xnp10c10andg9c0 p10c10 g9c0 np10c10andg9c0 nand2\n",
      "Xg10c0 np10c10andg9c0 ng10c10 g10c0 nand2\n",
      "Xng12c12 g12c12 ng12c12 inverter\n",
      "Xnp12c12andg11c0 p12c12 g11c0 np12c12andg11c0 nand2\n",
      "Xg12c0 np12c12andg11c0 ng12c12 g12c0 nand2\n",
      "Xng14c14 g14c14 ng14c14 inverter\n",
      "Xnp14c14andg13c0 p14c14 g13c0 np14c14andg13c0 nand2\n",
      "Xg14c0 np14c14andg13c0 ng14c14 g14c0 nand2\n",
      "Xng16c16 g16c16 ng16c16 inverter\n",
      "Xnp16c16andg15c0 p16c16 g15c0 np16c16andg15c0 nand2\n",
      "Xg16c0 np16c16andg15c0 ng16c16 g16c0 nand2\n",
      "Xng18c18 g18c18 ng18c18 inverter\n",
      "Xnp18c18andg17c0 p18c18 g17c0 np18c18andg17c0 nand2\n",
      "Xg18c0 np18c18andg17c0 ng18c18 g18c0 nand2\n",
      "Xng20c20 g20c20 ng20c20 inverter\n",
      "Xnp20c20andg19c0 p20c20 g19c0 np20c20andg19c0 nand2\n",
      "Xg20c0 np20c20andg19c0 ng20c20 g20c0 nand2\n",
      "Xng22c22 g22c22 ng22c22 inverter\n",
      "Xnp22c22andg21c0 p22c22 g21c0 np22c22andg21c0 nand2\n",
      "Xg22c0 np22c22andg21c0 ng22c22 g22c0 nand2\n",
      "Xng24c24 g24c24 ng24c24 inverter\n",
      "Xnp24c24andg23c0 p24c24 g23c0 np24c24andg23c0 nand2\n",
      "Xg24c0 np24c24andg23c0 ng24c24 g24c0 nand2\n",
      "Xng26c26 g26c26 ng26c26 inverter\n",
      "Xnp26c26andg25c0 p26c26 g25c0 np26c26andg25c0 nand2\n",
      "Xg26c0 np26c26andg25c0 ng26c26 g26c0 nand2\n",
      "Xng28c28 g28c28 ng28c28 inverter\n",
      "Xnp28c28andg27c0 p28c28 g27c0 np28c28andg27c0 nand2\n",
      "Xg28c0 np28c28andg27c0 ng28c28 g28c0 nand2\n",
      "Xng30c30 g30c30 ng30c30 inverter\n",
      "Xnp30c30andg29c0 p30c30 g29c0 np30c30andg29c0 nand2\n",
      "Xg30c0 np30c30andg29c0 ng30c30 g30c0 nand2\n"
     ]
    }
   ],
   "source": [
    "#row9\n",
    "for x in xrange(2,32,2):\n",
    "    greycell(x,x,x-1,0)"
   ]
  },
  {
   "cell_type": "code",
   "execution_count": 320,
   "metadata": {
    "collapsed": false
   },
   "outputs": [
    {
     "name": "stdout",
     "output_type": "stream",
     "text": [
      "Xs1 p1c1 g0c0 s1 xor2\n",
      "Xs2 p2c2 g1c0 s2 xor2\n",
      "Xs3 p3c3 g2c0 s3 xor2\n",
      "Xs4 p4c4 g3c0 s4 xor2\n",
      "Xs5 p5c5 g4c0 s5 xor2\n",
      "Xs6 p6c6 g5c0 s6 xor2\n",
      "Xs7 p7c7 g6c0 s7 xor2\n",
      "Xs8 p8c8 g7c0 s8 xor2\n",
      "Xs9 p9c9 g8c0 s9 xor2\n",
      "Xs10 p10c10 g9c0 s10 xor2\n",
      "Xs11 p11c11 g10c0 s11 xor2\n",
      "Xs12 p12c12 g11c0 s12 xor2\n",
      "Xs13 p13c13 g12c0 s13 xor2\n",
      "Xs14 p14c14 g13c0 s14 xor2\n",
      "Xs15 p15c15 g14c0 s15 xor2\n",
      "Xs16 p16c16 g15c0 s16 xor2\n",
      "Xs17 p17c17 g16c0 s17 xor2\n",
      "Xs18 p18c18 g17c0 s18 xor2\n",
      "Xs19 p19c19 g18c0 s19 xor2\n",
      "Xs20 p20c20 g19c0 s20 xor2\n",
      "Xs21 p21c21 g20c0 s21 xor2\n",
      "Xs22 p22c22 g21c0 s22 xor2\n",
      "Xs23 p23c23 g22c0 s23 xor2\n",
      "Xs24 p24c24 g23c0 s24 xor2\n",
      "Xs25 p25c25 g24c0 s25 xor2\n",
      "Xs26 p26c26 g25c0 s26 xor2\n",
      "Xs27 p27c27 g26c0 s27 xor2\n",
      "Xs28 p28c28 g27c0 s28 xor2\n",
      "Xs29 p29c29 g28c0 s29 xor2\n",
      "Xs30 p30c30 g29c0 s30 xor2\n",
      "Xs31 p31c31 g30c0 s31 xor2\n",
      "Xs32 p32c32 g31c0 s32 xor2\n"
     ]
    }
   ],
   "source": [
    "for x in xrange(1,33):\n",
    "    print\"Xs%d p%dc%d g%dc0 s%d xor2\" %(x,x,x,x-1,x)"
   ]
  },
  {
   "cell_type": "code",
   "execution_count": null,
   "metadata": {
    "collapsed": true
   },
   "outputs": [],
   "source": []
  }
 ],
 "metadata": {
  "kernelspec": {
   "display_name": "Python 2",
   "language": "python",
   "name": "python2"
  },
  "language_info": {
   "codemirror_mode": {
    "name": "ipython",
    "version": 2
   },
   "file_extension": ".py",
   "mimetype": "text/x-python",
   "name": "python",
   "nbconvert_exporter": "python",
   "pygments_lexer": "ipython2",
   "version": "2.7.13"
  }
 },
 "nbformat": 4,
 "nbformat_minor": 0
}
